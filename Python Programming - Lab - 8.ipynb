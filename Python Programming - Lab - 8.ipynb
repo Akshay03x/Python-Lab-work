{
 "cells": [
  {
   "cell_type": "markdown",
   "metadata": {},
   "source": [
    "<a href='https://www.darshan.ac.in/'> <img src='https://www.darshan.ac.in/Content/media/DU_Logo.svg' width=\"250\" height=\"300\"/></a>\n",
    "<pre>\n",
    "<center><b><h1>Python Programming - 2101CS405</b></center>\n",
    "<center><b><h1>Lab - 8</b></center>    \n",
    "<pre>"
   ]
  },
  {
   "cell_type": "markdown",
   "metadata": {},
   "source": [
    "# File handling"
   ]
  },
  {
   "cell_type": "markdown",
   "metadata": {},
   "source": [
    "# A"
   ]
  },
  {
   "cell_type": "markdown",
   "metadata": {},
   "source": [
    "### 01) WAP to read entire file named abc.txt"
   ]
  },
  {
   "cell_type": "code",
   "execution_count": 4,
   "metadata": {},
   "outputs": [
    {
     "name": "stdout",
     "output_type": "stream",
     "text": [
      "heleloo \n",
      "asldd\n",
      "aldadla\n",
      "dadla\n",
      "dadladla\n",
      "d'a\n"
     ]
    }
   ],
   "source": [
    "f1=open('abc.txt','r')\n",
    "print(f1.read())"
   ]
  },
  {
   "cell_type": "markdown",
   "metadata": {},
   "source": [
    "### 02) WAP to print program it self on console."
   ]
  },
  {
   "cell_type": "code",
   "execution_count": 5,
   "metadata": {},
   "outputs": [
    {
     "name": "stdout",
     "output_type": "stream",
     "text": [
      "{\n",
      " \"cells\": [\n",
      "  {\n",
      "   \"cell_type\": \"markdown\",\n",
      "   \"metadata\": {},\n",
      "   \"source\": [\n",
      "    \"<a href='https://www.darshan.ac.in/'> <img src='https://www.darshan.ac.in/Content/media/DU_Logo.svg' width=\\\"250\\\" height=\\\"300\\\"/></a>\\n\",\n",
      "    \"<pre>\\n\",\n",
      "    \"<center><b><h1>Python Programming - 2101CS405</b></center>\\n\",\n",
      "    \"<center><b><h1>Lab - 8</b></center>    \\n\",\n",
      "    \"<pre>\"\n",
      "   ]\n",
      "  },\n",
      "  {\n",
      "   \"cell_type\": \"markdown\",\n",
      "   \"metadata\": {},\n",
      "   \"source\": [\n",
      "    \"# File handling\"\n",
      "   ]\n",
      "  },\n",
      "  {\n",
      "   \"cell_type\": \"markdown\",\n",
      "   \"metadata\": {},\n",
      "   \"source\": [\n",
      "    \"# A\"\n",
      "   ]\n",
      "  },\n",
      "  {\n",
      "   \"cell_type\": \"markdown\",\n",
      "   \"metadata\": {},\n",
      "   \"source\": [\n",
      "    \"### 01) WAP to read entire file named abc.txt\"\n",
      "   ]\n",
      "  },\n",
      "  {\n",
      "   \"cell_type\": \"code\",\n",
      "   \"execution_count\": 4,\n",
      "   \"metadata\": {},\n",
      "   \"outputs\": [\n",
      "    {\n",
      "     \"name\": \"stdout\",\n",
      "     \"output_type\": \"stream\",\n",
      "     \"text\": [\n",
      "      \"heleloo \\n\",\n",
      "      \"asldd\\n\",\n",
      "      \"aldadla\\n\",\n",
      "      \"dadla\\n\",\n",
      "      \"dadladla\\n\",\n",
      "      \"d'a\\n\"\n",
      "     ]\n",
      "    }\n",
      "   ],\n",
      "   \"source\": [\n",
      "    \"f1=open('abc.txt','r')\\n\",\n",
      "    \"print(f1.read())\"\n",
      "   ]\n",
      "  },\n",
      "  {\n",
      "   \"cell_type\": \"markdown\",\n",
      "   \"metadata\": {},\n",
      "   \"source\": [\n",
      "    \"### 02) WAP to print program it self on console.\"\n",
      "   ]\n",
      "  },\n",
      "  {\n",
      "   \"cell_type\": \"code\",\n",
      "   \"execution_count\": null,\n",
      "   \"metadata\": {},\n",
      "   \"outputs\": [],\n",
      "   \"source\": [\n",
      "    \"f2=open('Python Programming - Lab - 8.ipynb','r')\\n\",\n",
      "    \"print(f2.read())\"\n",
      "   ]\n",
      "  },\n",
      "  {\n",
      "   \"cell_type\": \"markdown\",\n",
      "   \"metadata\": {},\n",
      "   \"source\": [\n",
      "    \"### 03) WAP to read first 5 lines from the file named abc.txt\"\n",
      "   ]\n",
      "  },\n",
      "  {\n",
      "   \"cell_type\": \"code\",\n",
      "   \"execution_count\": null,\n",
      "   \"metadata\": {},\n",
      "   \"outputs\": [],\n",
      "   \"source\": []\n",
      "  },\n",
      "  {\n",
      "   \"cell_type\": \"markdown\",\n",
      "   \"metadata\": {},\n",
      "   \"source\": [\n",
      "    \"### 04) WAP to find the longest word in a file named abc.txt\"\n",
      "   ]\n",
      "  },\n",
      "  {\n",
      "   \"cell_type\": \"code\",\n",
      "   \"execution_count\": null,\n",
      "   \"metadata\": {},\n",
      "   \"outputs\": [],\n",
      "   \"source\": []\n",
      "  },\n",
      "  {\n",
      "   \"cell_type\": \"markdown\",\n",
      "   \"metadata\": {},\n",
      "   \"source\": [\n",
      "    \"### 05) WAP to find the size of the file named abc.txt\"\n",
      "   ]\n",
      "  },\n",
      "  {\n",
      "   \"cell_type\": \"code\",\n",
      "   \"execution_count\": null,\n",
      "   \"metadata\": {},\n",
      "   \"outputs\": [],\n",
      "   \"source\": []\n",
      "  },\n",
      "  {\n",
      "   \"cell_type\": \"markdown\",\n",
      "   \"metadata\": {},\n",
      "   \"source\": [\n",
      "    \"### 06) WAP to implement search function to search specific occurance of word in a given text file.\"\n",
      "   ]\n",
      "  },\n",
      "  {\n",
      "   \"cell_type\": \"code\",\n",
      "   \"execution_count\": null,\n",
      "   \"metadata\": {},\n",
      "   \"outputs\": [],\n",
      "   \"source\": []\n",
      "  },\n",
      "  {\n",
      "   \"cell_type\": \"markdown\",\n",
      "   \"metadata\": {},\n",
      "   \"source\": [\n",
      "    \"# B\"\n",
      "   ]\n",
      "  },\n",
      "  {\n",
      "   \"cell_type\": \"markdown\",\n",
      "   \"metadata\": {},\n",
      "   \"source\": [\n",
      "    \"### 01) WAP to write first 100 prime numbers to a file named primenumbers.txt \\n\",\n",
      "    \"(Note: each number should be in new line)\"\n",
      "   ]\n",
      "  },\n",
      "  {\n",
      "   \"cell_type\": \"code\",\n",
      "   \"execution_count\": null,\n",
      "   \"metadata\": {},\n",
      "   \"outputs\": [],\n",
      "   \"source\": []\n",
      "  },\n",
      "  {\n",
      "   \"cell_type\": \"markdown\",\n",
      "   \"metadata\": {},\n",
      "   \"source\": [\n",
      "    \"### 02) WAP to merge two files and write it in a new file.\"\n",
      "   ]\n",
      "  },\n",
      "  {\n",
      "   \"cell_type\": \"code\",\n",
      "   \"execution_count\": null,\n",
      "   \"metadata\": {},\n",
      "   \"outputs\": [],\n",
      "   \"source\": []\n",
      "  },\n",
      "  {\n",
      "   \"cell_type\": \"markdown\",\n",
      "   \"metadata\": {},\n",
      "   \"source\": [\n",
      "    \"### 03) WAP to encrypt a text file.\"\n",
      "   ]\n",
      "  },\n",
      "  {\n",
      "   \"cell_type\": \"code\",\n",
      "   \"execution_count\": null,\n",
      "   \"metadata\": {},\n",
      "   \"outputs\": [],\n",
      "   \"source\": []\n",
      "  },\n",
      "  {\n",
      "   \"cell_type\": \"markdown\",\n",
      "   \"metadata\": {},\n",
      "   \"source\": [\n",
      "    \"### 04) WAP to decrypt a previously encrypted file.\"\n",
      "   ]\n",
      "  },\n",
      "  {\n",
      "   \"cell_type\": \"code\",\n",
      "   \"execution_count\": null,\n",
      "   \"metadata\": {},\n",
      "   \"outputs\": [],\n",
      "   \"source\": []\n",
      "  },\n",
      "  {\n",
      "   \"cell_type\": \"markdown\",\n",
      "   \"metadata\": {},\n",
      "   \"source\": [\n",
      "    \"### 05) WAP to remove a word from text file.\"\n",
      "   ]\n",
      "  },\n",
      "  {\n",
      "   \"cell_type\": \"code\",\n",
      "   \"execution_count\": null,\n",
      "   \"metadata\": {},\n",
      "   \"outputs\": [],\n",
      "   \"source\": []\n",
      "  }\n",
      " ],\n",
      " \"metadata\": {\n",
      "  \"kernelspec\": {\n",
      "   \"display_name\": \"base\",\n",
      "   \"language\": \"python\",\n",
      "   \"name\": \"python3\"\n",
      "  },\n",
      "  \"language_info\": {\n",
      "   \"codemirror_mode\": {\n",
      "    \"name\": \"ipython\",\n",
      "    \"version\": 3\n",
      "   },\n",
      "   \"file_extension\": \".py\",\n",
      "   \"mimetype\": \"text/x-python\",\n",
      "   \"name\": \"python\",\n",
      "   \"nbconvert_exporter\": \"python\",\n",
      "   \"pygments_lexer\": \"ipython3\",\n",
      "   \"version\": \"3.9.13\"\n",
      "  },\n",
      "  \"vscode\": {\n",
      "   \"interpreter\": {\n",
      "    \"hash\": \"eb818b70c34d109c23057195bbf55671d26e8607afabb78b4075d327a68695cb\"\n",
      "   }\n",
      "  }\n",
      " },\n",
      " \"nbformat\": 4,\n",
      " \"nbformat_minor\": 4\n",
      "}\n",
      "\n"
     ]
    }
   ],
   "source": [
    "f2=open('Python Programming - Lab - 8.ipynb','r')\n",
    "print(f2.read())"
   ]
  },
  {
   "cell_type": "markdown",
   "metadata": {},
   "source": [
    "### 03) WAP to read first 5 lines from the file named abc.txt"
   ]
  },
  {
   "cell_type": "code",
   "execution_count": 13,
   "metadata": {},
   "outputs": [
    {
     "name": "stdout",
     "output_type": "stream",
     "text": [
      "heleloo \n",
      "\n",
      "asldd\n",
      "\n",
      "aldadla\n",
      "\n",
      "dadla\n",
      "\n",
      "dadladla\n",
      "\n"
     ]
    }
   ],
   "source": [
    "f3=open('abc.txt','r')\n",
    "# print(f3.readlines())\n",
    "x=f3.readlines()\n",
    "for i in x[:5]:\n",
    "    print(i)"
   ]
  },
  {
   "cell_type": "markdown",
   "metadata": {},
   "source": [
    "### 04) WAP to find the longest word in a file named abc.txt"
   ]
  },
  {
   "cell_type": "code",
   "execution_count": 7,
   "metadata": {},
   "outputs": [
    {
     "name": "stdout",
     "output_type": "stream",
     "text": [
      "10\n",
      "university\n",
      "\n"
     ]
    }
   ],
   "source": [
    "f4=open('abc.txt','r')\n",
    "m=0\n",
    "st=''\n",
    "for i in f4:\n",
    "    for j in i.split():\n",
    "        if len(j)>m:\n",
    "            m=len(j)\n",
    "            st=i\n",
    "print(m)\n",
    "print(st)"
   ]
  },
  {
   "cell_type": "markdown",
   "metadata": {},
   "source": [
    "### 05) WAP to find the size of the file named abc.txt"
   ]
  },
  {
   "cell_type": "code",
   "execution_count": 10,
   "metadata": {},
   "outputs": [
    {
     "name": "stdout",
     "output_type": "stream",
     "text": [
      "heleloo\n",
      "kajsd\n",
      "asldd\n",
      "aldadla\n",
      "dadla\n",
      "university\n",
      "dadladla\n",
      "d'a\n",
      "50\n"
     ]
    }
   ],
   "source": [
    "f5=open('abc.txt','r')\n",
    "st=''\n",
    "coun=0\n",
    "for i in f5:\n",
    "    for j in i.split():\n",
    "        coun=coun+len(j)\n",
    "        print(j)\n",
    "print(coun)"
   ]
  },
  {
   "cell_type": "markdown",
   "metadata": {},
   "source": [
    "### 06) WAP to implement search function to search specific occurance of word in a given text file."
   ]
  },
  {
   "cell_type": "code",
   "execution_count": 12,
   "metadata": {},
   "outputs": [
    {
     "name": "stdout",
     "output_type": "stream",
     "text": [
      "abc\n"
     ]
    }
   ],
   "source": [
    "word=input(\"Enter Word\")\n",
    "f6=open('abc.txt','r')\n",
    "st=''\n",
    "coun=0\n",
    "for i in f6:\n",
    "    for j in i.split():\n",
    "        if(word==j):\n",
    "            print(j)\n",
    "            break\n",
    "        # print(j)\n",
    "# print(coun)"
   ]
  },
  {
   "cell_type": "markdown",
   "metadata": {},
   "source": [
    "# B"
   ]
  },
  {
   "cell_type": "markdown",
   "metadata": {},
   "source": [
    "### 01) WAP to write first 100 prime numbers to a file named primenumbers.txt \n",
    "(Note: each number should be in new line)"
   ]
  },
  {
   "cell_type": "code",
   "execution_count": 20,
   "metadata": {},
   "outputs": [
    {
     "name": "stdout",
     "output_type": "stream",
     "text": [
      "3\n",
      "\n",
      "5\n",
      "\n",
      "7\n",
      "\n",
      "11\n",
      "\n",
      "13\n",
      "\n",
      "17\n",
      "\n",
      "19\n",
      "\n",
      "23\n",
      "\n",
      "29\n",
      "\n",
      "31\n",
      "\n",
      "37\n",
      "\n",
      "41\n",
      "\n",
      "43\n",
      "\n",
      "47\n",
      "\n",
      "53\n",
      "\n",
      "59\n",
      "\n",
      "61\n",
      "\n",
      "67\n",
      "\n",
      "71\n",
      "\n",
      "73\n",
      "\n",
      "79\n",
      "\n",
      "83\n",
      "\n",
      "89\n",
      "\n",
      "97\n",
      "\n"
     ]
    }
   ],
   "source": [
    "f7=open('prime.txt')\n",
    "for i in f7:\n",
    "    for j in range(2,int(i)):\n",
    "        if(int(i)%j==0):\n",
    "            break\n",
    "    else:\n",
    "        print(f\"{i}\")"
   ]
  },
  {
   "cell_type": "markdown",
   "metadata": {},
   "source": [
    "### 02) WAP to merge two files and write it in a new file."
   ]
  },
  {
   "cell_type": "code",
   "execution_count": 21,
   "metadata": {},
   "outputs": [],
   "source": [
    "with open('abc.txt') as fp: \n",
    "    data = fp.read() \n",
    "with open('prime.txt') as fp: \n",
    "    data2 = fp.read() \n",
    "data += \"\\n\"\n",
    "data += data2 \n",
    "with open ('file3.txt', 'w') as fp: \n",
    "    fp.write(data)"
   ]
  },
  {
   "cell_type": "markdown",
   "metadata": {},
   "source": [
    "### 03) WAP to encrypt a text file."
   ]
  },
  {
   "cell_type": "code",
   "execution_count": 42,
   "metadata": {},
   "outputs": [],
   "source": [
    "key=int(input(\"Enter Key\"))\n",
    "f9=open('e.txt','r+')\n",
    "f10=open('ep.txt','w')\n",
    "\n",
    "x=f9.read()\n",
    "for j in range(len(x)):\n",
    "    f10.write(chr(ord(x[j])+key))\n",
    "f9.close()\n",
    "f10.close()\n"
   ]
  },
  {
   "cell_type": "markdown",
   "metadata": {},
   "source": [
    "### 04) WAP to decrypt a previously encrypted file."
   ]
  },
  {
   "cell_type": "code",
   "execution_count": 1,
   "metadata": {},
   "outputs": [],
   "source": [
    "key=int(input(\"Enter Key\"))\n",
    "f9=open('ep.txt','r+')\n",
    "f10=open('decypt.txt','w')\n",
    "\n",
    "x=f9.read()\n",
    "for j in range(len(x)):\n",
    "    f10.write(chr(ord(x[j])-key))\n",
    "f9.close()\n",
    "f10.close()"
   ]
  },
  {
   "cell_type": "markdown",
   "metadata": {},
   "source": [
    "### 05) WAP to remove a word from text file."
   ]
  },
  {
   "cell_type": "code",
   "execution_count": 24,
   "metadata": {},
   "outputs": [],
   "source": [
    "with open('abc.txt', 'r') as file:\n",
    "    text = file.read()\n",
    "with open('prime.txt', 'w') as file:\n",
    "    new = text.replace('university', '')\n",
    "    file.write(new)"
   ]
  }
 ],
 "metadata": {
  "kernelspec": {
   "display_name": "base",
   "language": "python",
   "name": "python3"
  },
  "language_info": {
   "codemirror_mode": {
    "name": "ipython",
    "version": 3
   },
   "file_extension": ".py",
   "mimetype": "text/x-python",
   "name": "python",
   "nbconvert_exporter": "python",
   "pygments_lexer": "ipython3",
   "version": "3.9.13 (main, Aug 25 2022, 23:51:50) [MSC v.1916 64 bit (AMD64)]"
  },
  "vscode": {
   "interpreter": {
    "hash": "eb818b70c34d109c23057195bbf55671d26e8607afabb78b4075d327a68695cb"
   }
  }
 },
 "nbformat": 4,
 "nbformat_minor": 4
}
