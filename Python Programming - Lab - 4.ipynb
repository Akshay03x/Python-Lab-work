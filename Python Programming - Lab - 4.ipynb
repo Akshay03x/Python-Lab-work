{
 "cells": [
  {
   "cell_type": "markdown",
   "metadata": {},
   "source": [
    "\n",
    "<a href='https://www.darshan.ac.in/'> <img src='https://www.darshan.ac.in/Content/media/DU_Logo.svg' width=\"250\" height=\"300\"/></a>\n",
    "<pre>\n",
    "<center><b><h1>Python Programming - 2101CS405</b></center>\n",
    "<center><b><h1>Lab - 4</b></center>    \n",
    "<pre>"
   ]
  },
  {
   "cell_type": "markdown",
   "metadata": {},
   "source": [
    "# String"
   ]
  },
  {
   "cell_type": "markdown",
   "metadata": {},
   "source": [
    "### 01) WAP to check given string is palindrome or not."
   ]
  },
  {
   "cell_type": "code",
   "execution_count": 2,
   "metadata": {},
   "outputs": [
    {
     "name": "stdout",
     "output_type": "stream",
     "text": [
      "Not Palindrom\n"
     ]
    }
   ],
   "source": [
    "a=input(\"Enter String:\")\n",
    "if(a[::-1]==a):\n",
    "    print(\"Palindromic\")\n",
    "else:\n",
    "    print(\"Not Palindrome\")"
   ]
  },
  {
   "cell_type": "markdown",
   "metadata": {},
   "source": [
    "### 02) WAP to reverse the words in given string."
   ]
  },
  {
   "cell_type": "code",
   "execution_count": 18,
   "metadata": {},
   "outputs": [
    {
     "name": "stdout",
     "output_type": "stream",
     "text": [
      "chauhan akshay \n"
     ]
    }
   ],
   "source": [
    "string = input(\"Enter a string\")\n",
    "list = string.split(' ')\n",
    "output = \"\"\n",
    "for i in list[::-1]:\n",
    "    output+= i + ' '\n",
    "print(output)"
   ]
  },
  {
   "cell_type": "markdown",
   "metadata": {},
   "source": [
    "### 03) WAP to remove ith character from given string"
   ]
  },
  {
   "cell_type": "code",
   "execution_count": 12,
   "metadata": {},
   "outputs": [
    {
     "name": "stdout",
     "output_type": "stream",
     "text": [
      "012356\n",
      "0123, 56\n"
     ]
    }
   ],
   "source": [
    "string=input(\"Enter String:\")\n",
    "n=int(input(\"Enter i :\"))\n",
    "x=string[:n:]\n",
    "y=string[n+1:]\n",
    "print(\"\".join([x,y]))\n",
    "# print(f\"{x}, {y}\")"
   ]
  },
  {
   "cell_type": "markdown",
   "metadata": {},
   "source": [
    "### 04) WAP to find length of String without using len function."
   ]
  },
  {
   "cell_type": "code",
   "execution_count": 13,
   "metadata": {},
   "outputs": [
    {
     "name": "stdout",
     "output_type": "stream",
     "text": [
      "3\n"
     ]
    }
   ],
   "source": [
    "s=input(\"Enter String:\")\n",
    "count=0\n",
    "for i in s:\n",
    "    count+=1\n",
    "print(count)"
   ]
  },
  {
   "cell_type": "markdown",
   "metadata": {},
   "source": [
    "### 05) WAP to print even length word in string."
   ]
  },
  {
   "cell_type": "code",
   "execution_count": 12,
   "metadata": {},
   "outputs": [
    {
     "name": "stdout",
     "output_type": "stream",
     "text": [
      "['12', '12', '23', '23', '2333', '']\n"
     ]
    }
   ],
   "source": [
    "# %reset\n",
    "a=input()\n",
    "x=a.split(' ')\n",
    "y=[i for i in x if len(i)%2==0 ]\n",
    "print(y)\n"
   ]
  },
  {
   "cell_type": "markdown",
   "metadata": {},
   "source": [
    "### 06) WAP to count numbers of vowels in given string."
   ]
  },
  {
   "cell_type": "code",
   "execution_count": 20,
   "metadata": {},
   "outputs": [
    {
     "name": "stdout",
     "output_type": "stream",
     "text": [
      "5\n"
     ]
    }
   ],
   "source": [
    "b=input()\n",
    "count=0\n",
    "for i in b:\n",
    "    if i.lower() in ['a','e','i','o','u']:\n",
    "        count+=1\n",
    "print(count)\n"
   ]
  },
  {
   "cell_type": "markdown",
   "metadata": {},
   "source": [
    "### 07) WAP to convert given array to string."
   ]
  },
  {
   "cell_type": "code",
   "execution_count": 8,
   "metadata": {},
   "outputs": [
    {
     "name": "stdout",
     "output_type": "stream",
     "text": [
      "1 2 3 4 abc 6\n"
     ]
    }
   ],
   "source": [
    "l=[1,2,3,4,\"abc\",6]\n",
    "ToStr = ' '.join([str(elem) for elem in l]) \n",
    "print(ToStr)\n"
   ]
  },
  {
   "cell_type": "markdown",
   "metadata": {},
   "source": [
    "### 01) WAP to find out duplicate characters in given string."
   ]
  },
  {
   "cell_type": "code",
   "execution_count": 15,
   "metadata": {},
   "outputs": [
    {
     "name": "stdout",
     "output_type": "stream",
     "text": [
      "kasjl\n",
      "{'k': 3, 'a': 5, 's': 6, 'j': 4}\n"
     ]
    }
   ],
   "source": [
    "a=input()\n",
    "p,dict='',{}\n",
    "for i in a:\n",
    "    if a.count(i)>1 and i.isalnum():\n",
    "        dict[i]=a.count(i)\n",
    "    if i not in  p and i.isalnum():\n",
    "        p+=i\n",
    "print(p)\n",
    "print(dict)"
   ]
  },
  {
   "cell_type": "markdown",
   "metadata": {},
   "source": [
    "### 02) WAP to capitalize the first and last character of each word in a string."
   ]
  },
  {
   "cell_type": "code",
   "execution_count": 16,
   "metadata": {},
   "outputs": [
    {
     "name": "stdout",
     "output_type": "stream",
     "text": [
      "JadddoO DodiD \n"
     ]
    }
   ],
   "source": [
    "string = input(\"Enter a string \")\n",
    "list = string.split(' ')\n",
    "output = \"\"\n",
    "for i in list:\n",
    "    output +=  i[0].upper() + i[1:len(i)-1] + i[len(i)-1].upper() + ' '\n",
    "print(output)"
   ]
  },
  {
   "attachments": {},
   "cell_type": "markdown",
   "metadata": {},
   "source": [
    "### 03) WAP to find Maximum frequency character in String."
   ]
  },
  {
   "cell_type": "code",
   "execution_count": 9,
   "metadata": {},
   "outputs": [
    {
     "name": "stdout",
     "output_type": "stream",
     "text": [
      "count of  char :a is :15\n"
     ]
    }
   ],
   "source": [
    "# %reset\n",
    "a=input()\n",
    "count,char,disc=0,'',{}\n",
    "for i in a:\n",
    "    if i.isalnum():\n",
    "        if count <= a.count(i):\n",
    "            char=i\n",
    "            count=a.count(i)\n",
    "            # disc[i]=count\n",
    "print(f\"count of  char :{char} is :{count}\")\n",
    "# print(disc)"
   ]
  },
  {
   "attachments": {},
   "cell_type": "markdown",
   "metadata": {},
   "source": [
    "### 04) WAP to find Minimum frequency character in String."
   ]
  },
  {
   "cell_type": "code",
   "execution_count": 19,
   "metadata": {},
   "outputs": [
    {
     "name": "stdout",
     "output_type": "stream",
     "text": [
      "1\n"
     ]
    }
   ],
   "source": [
    "%reset\n",
    "string = input(\"Enter a string \")\n",
    "dictionary = {}\n",
    "for i in string:\n",
    "        dictionary[i] = string.count(i)\n",
    "print(dictionary[min(dictionary,key=dictionary.get)])"
   ]
  },
  {
   "cell_type": "markdown",
   "metadata": {},
   "source": [
    "### 05) WAP to check if a given string is binary string or not"
   ]
  },
  {
   "cell_type": "code",
   "execution_count": 24,
   "metadata": {},
   "outputs": [
    {
     "name": "stdout",
     "output_type": "stream",
     "text": [
      "Binary\n"
     ]
    }
   ],
   "source": [
    "# %reset \n",
    "str=input()\n",
    "for i in str:\n",
    "    # print(i)\n",
    "    if not(i=='0' or i=='1'):\n",
    "        print(\"Not Binary\")\n",
    "        break\n",
    "else:\n",
    "    print(\"Binary\")\n"
   ]
  }
 ],
 "metadata": {
  "kernelspec": {
   "display_name": "Python 3.9.13 ('base')",
   "language": "python",
   "name": "python3"
  },
  "language_info": {
   "codemirror_mode": {
    "name": "ipython",
    "version": 3
   },
   "file_extension": ".py",
   "mimetype": "text/x-python",
   "name": "python",
   "nbconvert_exporter": "python",
   "pygments_lexer": "ipython3",
   "version": "3.9.13"
  },
  "vscode": {
   "interpreter": {
    "hash": "eb818b70c34d109c23057195bbf55671d26e8607afabb78b4075d327a68695cb"
   }
  }
 },
 "nbformat": 4,
 "nbformat_minor": 4
}
