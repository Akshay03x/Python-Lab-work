{
 "cells": [
  {
   "cell_type": "markdown",
   "metadata": {},
   "source": [
    "<a href='https://www.darshan.ac.in/'> <img src='https://www.darshan.ac.in/Content/media/DU_Logo.svg' width=\"250\" height=\"300\"/></a>\n",
    "<pre>\n",
    "<center><b><h1>Python Programming - 2101CS405</b></center>\n",
    "<center><b><h1>Lab - 1</b></center>    \n",
    "<pre>"
   ]
  },
  {
   "cell_type": "markdown",
   "metadata": {},
   "source": [
    "### 01) WAP to print “Hello World”"
   ]
  },
  {
   "cell_type": "code",
   "execution_count": 1,
   "metadata": {},
   "outputs": [
    {
     "name": "stdout",
     "output_type": "stream",
     "text": [
      "Hello World\n"
     ]
    }
   ],
   "source": [
    "print(\"Hello World\")"
   ]
  },
  {
   "cell_type": "markdown",
   "metadata": {},
   "source": [
    "### 02) WAP to print your address i) using single print ii) using multiple print"
   ]
  },
  {
   "cell_type": "code",
   "execution_count": 2,
   "metadata": {},
   "outputs": [
    {
     "name": "stdout",
     "output_type": "stream",
     "text": [
      "kjfak ad adjfadjfjdsa ;sasd\n"
     ]
    }
   ],
   "source": [
    "print(\"kjfak ad adjfadjfjdsa ;sasd\")"
   ]
  },
  {
   "cell_type": "code",
   "execution_count": 3,
   "metadata": {},
   "outputs": [
    {
     "name": "stdout",
     "output_type": "stream",
     "text": [
      "jhasjdfh\n",
      "kajdhfkjafd\n",
      "lakdhffj\n"
     ]
    }
   ],
   "source": [
    "print(\"jhasjdfh\")\n",
    "print(\"kajdhfkjafd\")\n",
    "print(\"lakdhffj\")"
   ]
  },
  {
   "cell_type": "markdown",
   "metadata": {},
   "source": [
    "### 03) WAP to print addition of 2 numbers (without input function)"
   ]
  },
  {
   "cell_type": "code",
   "execution_count": 1,
   "metadata": {},
   "outputs": [
    {
     "name": "stdout",
     "output_type": "stream",
     "text": [
      "44\n"
     ]
    }
   ],
   "source": [
    "a=34\n",
    "b=10\n",
    "print(a+b)"
   ]
  },
  {
   "cell_type": "markdown",
   "metadata": {},
   "source": [
    "### 04) WAP to calculate and print average of 2 numbers (without input function)"
   ]
  },
  {
   "cell_type": "code",
   "execution_count": 2,
   "metadata": {},
   "outputs": [
    {
     "name": "stdout",
     "output_type": "stream",
     "text": [
      "22.5\n"
     ]
    }
   ],
   "source": [
    "a=10\n",
    "b=35\n",
    "print((a+b)/2)"
   ]
  },
  {
   "cell_type": "markdown",
   "metadata": {},
   "source": [
    "### 05) WAP to add two number entered by user."
   ]
  },
  {
   "cell_type": "code",
   "execution_count": 3,
   "metadata": {},
   "outputs": [
    {
     "name": "stdout",
     "output_type": "stream",
     "text": [
      "13\n"
     ]
    }
   ],
   "source": [
    "a=int(input(\"Enter Number 1:\"))\n",
    "b=int(input(\"Enter Number 2:\"))\n",
    "print(a+b)"
   ]
  },
  {
   "cell_type": "markdown",
   "metadata": {},
   "source": [
    "### 06) WAP to calculate simple interest."
   ]
  },
  {
   "cell_type": "code",
   "execution_count": 6,
   "metadata": {},
   "outputs": [
    {
     "name": "stdout",
     "output_type": "stream",
     "text": [
      "0.01\n"
     ]
    }
   ],
   "source": [
    "p=int(input(\"Enter Principal:\"))\n",
    "r=int(input(\"Enter Rate of Interest:\"))\n",
    "t=int(input(\"Enter Term of the loan/deposit in years:\"))\n",
    "print((p*r*t)/100)\n"
   ]
  },
  {
   "cell_type": "markdown",
   "metadata": {},
   "source": [
    "### 07) WAP Calculate Area and Circumfrence of Circle"
   ]
  },
  {
   "cell_type": "code",
   "execution_count": 5,
   "metadata": {},
   "outputs": [
    {
     "name": "stdout",
     "output_type": "stream",
     "text": [
      "Area Is :3.14\n",
      "Circumfrence Is:6.28\n"
     ]
    }
   ],
   "source": [
    "r=float(input(\"enter radius:\"))\n",
    "print(\"Area Is :\"+str(3.14*r*r))\n",
    "print(\"Circumfrence Is:\"+str(3.14*2*r))"
   ]
  },
  {
   "cell_type": "markdown",
   "metadata": {},
   "source": [
    "### 08) WAP to print Multiplication table of given number without using loops."
   ]
  },
  {
   "cell_type": "code",
   "execution_count": 2,
   "metadata": {},
   "outputs": [
    {
     "name": "stdout",
     "output_type": "stream",
     "text": [
      "3 6 9 12 15 18 21 24 27 30\n"
     ]
    }
   ],
   "source": [
    "number =int(input(\"enter number\"))\n",
    "# list =[1,2,3,4,5,6,7,8,9,10] \n",
    "print(1*number ,2*number ,3*number ,4*number,5*number ,6*number,7*number ,8*number ,9*number ,10*number )\n",
    "# print(number*list[::])\n",
    "# for l in list:\n",
    "#     print(l*number,end=' ')\n",
    "# ans =lambda list :print(list)\n",
    "# print([l*number for l in list ])\n",
    "# print([l for l in list l*number])"
   ]
  },
  {
   "cell_type": "markdown",
   "metadata": {},
   "source": [
    "### 09) WAP to calculate Area of Triangle (hint: a = h * b * 0.5)"
   ]
  },
  {
   "cell_type": "code",
   "execution_count": 1,
   "metadata": {},
   "outputs": [
    {
     "name": "stdout",
     "output_type": "stream",
     "text": [
      "0.5\n"
     ]
    }
   ],
   "source": [
    "# %reset\n",
    "h=float(input(\"enter H :\"))\n",
    "b=float(input(\"enter B :\"))\n",
    "print(h*b*0.5)"
   ]
  },
  {
   "cell_type": "markdown",
   "metadata": {},
   "source": [
    "### 10) WAP to convert degree to Fahrenheit and vice versa."
   ]
  },
  {
   "cell_type": "code",
   "execution_count": null,
   "metadata": {},
   "outputs": [],
   "source": [
    "# °C = [(°F-32)×5]/9\n",
    "str=input(\"enter what You want : f For  Fahrenheit and c for degree \")\n",
    "if(str == 'f'):\n",
    "    c =float(input(\"enter degree\"))\n",
    "    print(\"Fahrenheit Is :\",)\n",
    "else:\n",
    "    f=float(input(\"enter Fahrenheit\"))\n",
    "    print(\"Degree Is :\",)"
   ]
  },
  {
   "cell_type": "markdown",
   "metadata": {},
   "source": [
    "### 11) WAP to calculate total marks and Percentage."
   ]
  },
  {
   "cell_type": "code",
   "execution_count": 1,
   "metadata": {},
   "outputs": [
    {
     "name": "stdout",
     "output_type": "stream",
     "text": [
      "Total : 3.0 Percentage 2.01 %\n"
     ]
    }
   ],
   "source": [
    "s1=float(input(\"Enter Mark Of Subject1 :\"))\n",
    "s2=float(input(\"Enter Mark Of Subject2 :\"))\n",
    "s3=float(input(\"Enter Mark Of Subject3 :\"))\n",
    "print(\"Total :\",s1+s2+s3,\"Percentage\",s1+s2+s3/100,\"%\")"
   ]
  },
  {
   "cell_type": "markdown",
   "metadata": {},
   "source": [
    "### 12) Compute distance between two points taking input from the user (Pythagorean Theorem)."
   ]
  },
  {
   "cell_type": "code",
   "execution_count": 6,
   "metadata": {},
   "outputs": [
    {
     "name": "stdout",
     "output_type": "stream",
     "text": [
      "1.4142135623730951\n"
     ]
    }
   ],
   "source": [
    "import math\n",
    "x1=int(input(\"enter Input :\"))\n",
    "y1=int(input(\"enter Input :\"))\n",
    "\n",
    "x2=int(input(\"enter Input :\"))\n",
    "y2=int(input(\"enter Input :\"))\n",
    "print(math.sqrt((x2-x1)**2 + (y2-y1)**2))"
   ]
  },
  {
   "cell_type": "markdown",
   "metadata": {},
   "source": [
    "### 13) WAP to convert seconds into hours, minutes & seconds and print in HH:MM:SS\n",
    "[e.g. 10000 seconds mean 2:46:40 (2 Hours, 46 Minutes, 40Seconds)]"
   ]
  },
  {
   "cell_type": "code",
   "execution_count": 2,
   "metadata": {},
   "outputs": [
    {
     "name": "stdout",
     "output_type": "stream",
     "text": [
      "2 : 46 : 40\n"
     ]
    }
   ],
   "source": [
    "s = int(input(\"Enter second : \"))\n",
    "m = int(s/60)\n",
    "h = int(m/60)\n",
    "s = s%60\n",
    "m= m%60\n",
    "print(h,\":\",m,\":\",s)"
   ]
  },
  {
   "cell_type": "markdown",
   "metadata": {},
   "source": [
    "### 14) WAP to enter distance into kilometer and convert it into meter, feet,inches, and centimeter"
   ]
  },
  {
   "cell_type": "code",
   "execution_count": 8,
   "metadata": {},
   "outputs": [
    {
     "name": "stdout",
     "output_type": "stream",
     "text": [
      "4 km = 4000m\n",
      "4 km = 13124ft\n",
      "4 km = 157480inch\n",
      "4 km = 400000cm\n"
     ]
    }
   ],
   "source": [
    "km = int(input(\"Enter distance in KM : \"))\n",
    "meter = km*1000\n",
    "feet = km*3281\n",
    "inch = km*39370\n",
    "cm = km*100000\n",
    "\n",
    "print(f\"{km} km = {meter}m\")\n",
    "print(f\"{km} km = {feet}ft\")\n",
    "print(f\"{km} km = {inch}inch\")\n",
    "print(f\"{km} km = {cm}cm\")\n"
   ]
  }
 ],
 "metadata": {
  "kernelspec": {
   "display_name": "Python 3 (ipykernel)",
   "language": "python",
   "name": "python3"
  },
  "language_info": {
   "codemirror_mode": {
    "name": "ipython",
    "version": 3
   },
   "file_extension": ".py",
   "mimetype": "text/x-python",
   "name": "python",
   "nbconvert_exporter": "python",
   "pygments_lexer": "ipython3",
   "version": "3.9.13"
  },
  "vscode": {
   "interpreter": {
    "hash": "eb818b70c34d109c23057195bbf55671d26e8607afabb78b4075d327a68695cb"
   }
  }
 },
 "nbformat": 4,
 "nbformat_minor": 4
}
