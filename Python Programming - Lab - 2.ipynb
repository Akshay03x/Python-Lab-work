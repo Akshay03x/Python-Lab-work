{
 "cells": [
  {
   "cell_type": "markdown",
   "metadata": {},
   "source": [
    "\n",
    "<a href='https://www.darshan.ac.in/'> <img src='https://www.darshan.ac.in/Content/media/DU_Logo.svg' width=\"250\" height=\"300\"/></a>\n",
    "<pre>\n",
    "<center><b><h1>Python Programming - 2101CS405</b></center>\n",
    "<center><b><h1>Lab - 2</b></center>    \n",
    "<pre>"
   ]
  },
  {
   "cell_type": "markdown",
   "metadata": {},
   "source": [
    "# if..else.."
   ]
  },
  {
   "cell_type": "markdown",
   "metadata": {},
   "source": [
    "### 01) WAP to check whether the given number is positive or negative."
   ]
  },
  {
   "cell_type": "code",
   "execution_count": 3,
   "metadata": {},
   "outputs": [
    {
     "name": "stdout",
     "output_type": "stream",
     "text": [
      "Number Is Positive!!\n"
     ]
    }
   ],
   "source": [
    "a=int(input(\"Enter Number:\"))\n",
    "if(a<0):\n",
    "    print(\"Number Is Negative!!\")\n",
    "else:\n",
    "    print(\"Number Is Positive!!\")"
   ]
  },
  {
   "cell_type": "markdown",
   "metadata": {},
   "source": [
    "### 02) WAP to check whether the given number is odd or even"
   ]
  },
  {
   "cell_type": "code",
   "execution_count": 4,
   "metadata": {},
   "outputs": [
    {
     "name": "stdout",
     "output_type": "stream",
     "text": [
      "Number Is odd\n"
     ]
    }
   ],
   "source": [
    "x=int(input(\"ENter Number:\"))\n",
    "if(x%2==0):\n",
    "    print(\"Number Is even\")\n",
    "else:\n",
    "    print(\"Number Is odd\")"
   ]
  },
  {
   "cell_type": "markdown",
   "metadata": {},
   "source": [
    "### 03) WAP to find out largest number from given two numbers using simple if and ternary operator."
   ]
  },
  {
   "cell_type": "code",
   "execution_count": 10,
   "metadata": {},
   "outputs": [
    {
     "name": "stdout",
     "output_type": "stream",
     "text": [
      "2.0  is greater\n",
      "2.0\n"
     ]
    }
   ],
   "source": [
    "# %reset\n",
    "a=float(input(\"enter n1\"))\n",
    "b=float(input(\"enter n2\"))\n",
    "if(a>b):\n",
    "    print(a,\"is greater\")\n",
    "else:\n",
    "    print(b,\" is greater\")\n",
    "    \n",
    "print(a) if a>b else print(b)"
   ]
  },
  {
   "cell_type": "markdown",
   "metadata": {},
   "source": [
    "### 04) WAP to find out largest number from given three numbers."
   ]
  },
  {
   "cell_type": "code",
   "execution_count": null,
   "metadata": {},
   "outputs": [],
   "source": [
    "a=float(input(\"enter n1\"))\n",
    "b=float(input(\"enter n2\"))\n",
    "c=float(input(\"enter n3\"))\n",
    "if(a>b and a>c):\n",
    "    print(a,\"is greater\")\n",
    "elif(b>a and b>c):\n",
    "    print(b,\" is greater\")\n",
    "else:\n",
    "    print(c,\" is greater\")"
   ]
  },
  {
   "cell_type": "markdown",
   "metadata": {},
   "source": [
    "### 05) WAP to check whether the given year is leap year or not.\n",
    "[If a year can be divisible by 4 but not divisible by 100 then it is leap year but if it is divisible by 400 then it is leap year]"
   ]
  },
  {
   "cell_type": "code",
   "execution_count": 2,
   "metadata": {},
   "outputs": [
    {
     "name": "stdout",
     "output_type": "stream",
     "text": [
      "Not leap Year\n"
     ]
    }
   ],
   "source": [
    "y=int(input(\"enter Year\"))\n",
    "if( y&400==0 or (y/4==0 and y/100==0) ):\n",
    "    print(\"Leap Year\")\n",
    "else:\n",
    "    print(\"Not leap Year\")\n"
   ]
  },
  {
   "cell_type": "markdown",
   "metadata": {},
   "source": [
    "### 06) WAP in python to display the name of the day according to the number given by the user"
   ]
  },
  {
   "cell_type": "code",
   "execution_count": 5,
   "metadata": {},
   "outputs": [
    {
     "name": "stdout",
     "output_type": "stream",
     "text": [
      "thursday\n"
     ]
    }
   ],
   "source": [
    "\n",
    "\n",
    "\n",
    "n=int(input(\"enter Number\"))\n",
    "if(n==1):\n",
    "    print(\"Monday\")\n",
    "elif(n==2):\n",
    "    print(\"tuesday\")\n",
    "elif(n==3):\n",
    "    print(\"wednesday\")\n",
    "elif(n==4):\n",
    "    print(\"thursday\")\n",
    "elif(n==5):\n",
    "    print(\"friday\")\n",
    "elif(n==6):\n",
    "    print(\"saturday\")\n",
    "elif(n==7):\n",
    "    print(\"sunday\")\n",
    "else:\n",
    "    print(\"invalid Number\")"
   ]
  },
  {
   "cell_type": "markdown",
   "metadata": {},
   "source": [
    "### 07) WAP to implement simple calculator which performs (add,sub,mul,div) of two no. based on user input."
   ]
  },
  {
   "cell_type": "code",
   "execution_count": 6,
   "metadata": {},
   "outputs": [
    {
     "name": "stdout",
     "output_type": "stream",
     "text": [
      "Addition : 3\n"
     ]
    }
   ],
   "source": [
    "n1 = int(input(\"Enter 1st number : \"))\n",
    "n2 = int(input(\"Enter 2nd number : \"))\n",
    "op = input(\"Enter operator : \")\n",
    "if (op==\"+\") :\n",
    "    print(\"Addition :\",n1+n2)\n",
    "elif (op==\"-\" ):\n",
    "    print(\"Substraction :\",n1-n2)\n",
    "elif (op==\"*\") :\n",
    "    print(\"Multipliaction :\",n1*n2)\n",
    "elif (op==\"/\"):\n",
    "    print('Division :',n1/n2)\n",
    "else:\n",
    "    print('Invalid Operator')\n"
   ]
  },
  {
   "cell_type": "markdown",
   "metadata": {},
   "source": [
    "### 08) WAP to calculate electricity bill based on following criteria. Which takes the unit from the user.\n",
    "a. First 1 to 50 units – Rs. 2.60/unit</br>\n",
    "b. Next 50 to 100 units – Rs. 3.25/unit</br>\n",
    "c. Next 100 to 200 units – Rs. 5.26/unit</br>\n",
    "d. above 200 units – Rs. 8.45/unit"
   ]
  },
  {
   "cell_type": "code",
   "execution_count": 8,
   "metadata": {},
   "outputs": [
    {
     "name": "stdout",
     "output_type": "stream",
     "text": [
      "Bill amount :  2.6\n"
     ]
    }
   ],
   "source": [
    "Units = int(input(\"Enter  units : \"))\n",
    "\n",
    "if (Units>=1 and Units<=50):\n",
    "    print(\"Bill amount : \",Units*2.60)\n",
    "elif (Units<=100):\n",
    "    print(\"Bill amount : \",(130+(Units-50)*3.25))\n",
    "elif (Units<=200):\n",
    "    print(\" amount is :\", (292.5+(Units-100)*5.26))\n",
    "elif (Units>200):\n",
    "    print(\" amount is :\", (818.5+(Units-200)*8.45))\n",
    "else:\n",
    "    print(\"Invalid Units\")\n"
   ]
  },
  {
   "cell_type": "markdown",
   "metadata": {},
   "source": [
    "### 01) WAP to read marks of five subjects. Calculate percentage and print class accordingly. \n",
    "Fail below 35 </br>\n",
    "Pass Class between 35 to 45 </br>\n",
    "Second Class</br>\n",
    "between 45 to 60</br>\n",
    "First Class between 60 to 70</br> \n",
    "Distinction if more than 70"
   ]
  },
  {
   "cell_type": "code",
   "execution_count": 9,
   "metadata": {},
   "outputs": [
    {
     "name": "stdout",
     "output_type": "stream",
     "text": [
      "Class : Fail\n"
     ]
    }
   ],
   "source": [
    "m1 = int(input(\"Enter subject1 Mark : \"))\n",
    "m2 = int(input(\"Enter subject2 Mark : \"))\n",
    "m3 = int(input(\"Enter subject3 Mark : \"))\n",
    "m4 = int(input(\"Enter subject4 Mark : \"))\n",
    "m5 = int(input(\"Enter subject5 Mark : \"))\n",
    "\n",
    "per = (m1+m2+m3+m4+m5)/5\n",
    "\n",
    "if per<35:\n",
    "    print(\"Class : Fail\")\n",
    "elif per>=35 and per<45:\n",
    "    print(\"Class : Pass\")\n",
    "elif per<60:\n",
    "    print(\"Class : Second\")\n",
    "elif per < 70:\n",
    "    print(\"Class : First\")\n",
    "else:\n",
    "    print(\"Class : Distiction\")"
   ]
  },
  {
   "cell_type": "markdown",
   "metadata": {},
   "source": [
    "### 02) WAP to find out the Maximum and Minimum number from given 4 numbers."
   ]
  },
  {
   "cell_type": "code",
   "execution_count": null,
   "metadata": {},
   "outputs": [],
   "source": [
    "n1 = int(input(\"Enter 1st number : \"))\n",
    "n2 = int(input(\"Enter 2nd number : \"))\n",
    "n3 = int(input(\"Enter 3rd number : \"))\n",
    "n4 = int(input(\"Enter 4th number : \"))\n",
    "\n",
    "print(n1 if n1>n2 and n1>n3 and n1>n4 else n2 if n2>n3 and n2>n4 else n3 if n3>n4 else n4,\"is Maximum number\")\n",
    "\n",
    "print(n1 if n1<n2 and n1<n3 and n1<n4 else n2 if n2<n3 and n2<n4 else n3 if n3<n4 else n4,\"is Minimum number\")"
   ]
  },
  {
   "cell_type": "markdown",
   "metadata": {},
   "source": [
    "### 03) WAP to input an integer number and check the last digit of number is even or odd."
   ]
  },
  {
   "cell_type": "code",
   "execution_count": null,
   "metadata": {},
   "outputs": [],
   "source": [
    "n = int(input(\"Enter a number : \"))\n",
    "if (n%10)%2==0:\n",
    "    print(\"Last digit is even\")\n",
    "else:\n",
    "    print(\"Last digit is odd\")\n"
   ]
  },
  {
   "cell_type": "markdown",
   "metadata": {},
   "source": [
    "### 04) WAP to determine the roots of the equation ax2+bx+c=0."
   ]
  },
  {
   "cell_type": "code",
   "execution_count": 11,
   "metadata": {},
   "outputs": [
    {
     "name": "stdout",
     "output_type": "stream",
     "text": [
      "1st root is : -0.5  +i 0.8660254037844386\n",
      "1st root is : -0.5 - i 0.8660254037844386\n"
     ]
    }
   ],
   "source": [
    "import math\n",
    "a = int(input(\"Enter a : \"))\n",
    "b = int(input(\"Enter b : \"))\n",
    "c = int(input(\"Enter c : \"))\n",
    "\n",
    "d = (b*b)-(4*a*c)\n",
    "sqrtOfD = math.sqrt(abs(d))\n",
    "if d==0:\n",
    "    print(\"Both same roots are :\", (-b)/(2*a))\n",
    "elif d>0:\n",
    "    print(\"1st root is :\" ,(-b+sqrtOfD)/(2*a))\n",
    "    print(\"2nd root is :\", (-b-sqrtOfD)/(2*a))\n",
    "else:\n",
    "    print(\"1st root is :\", ((-b)/(2*a)) ,\" +i\", (sqrtOfD/(2*a)))\n",
    "    print(\"1st root is :\", ((-b)/(2*a)) ,\"- i\", (sqrtOfD/(2*a)))\n"
   ]
  },
  {
   "cell_type": "code",
   "execution_count": null,
   "metadata": {},
   "outputs": [],
   "source": []
  }
 ],
 "metadata": {
  "kernelspec": {
   "display_name": "Python 3 (ipykernel)",
   "language": "python",
   "name": "python3"
  },
  "language_info": {
   "codemirror_mode": {
    "name": "ipython",
    "version": 3
   },
   "file_extension": ".py",
   "mimetype": "text/x-python",
   "name": "python",
   "nbconvert_exporter": "python",
   "pygments_lexer": "ipython3",
   "version": "3.9.13"
  },
  "vscode": {
   "interpreter": {
    "hash": "eb818b70c34d109c23057195bbf55671d26e8607afabb78b4075d327a68695cb"
   }
  }
 },
 "nbformat": 4,
 "nbformat_minor": 4
}
